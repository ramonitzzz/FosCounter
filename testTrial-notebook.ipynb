{
 "cells": [
  {
   "cell_type": "markdown",
   "metadata": {},
   "source": [
    "# FosCounter threshold adjusting trial"
   ]
  },
  {
   "cell_type": "markdown",
   "metadata": {},
   "source": [
    "We recommend opening a small subset of images from the dataset and running this notebook to adjust the thresholding values"
   ]
  },
  {
   "cell_type": "code",
   "execution_count": null,
   "metadata": {},
   "outputs": [],
   "source": [
    "# import modules\n",
    "import skimage as sk\n",
    "import numpy as np\n",
    "import matplotlib.pyplot as plt\n",
    "import matplotlib.patches as mpatches\n",
    "import os\n",
    "import pandas as pd\n",
    "import math\n",
    "from scipy import ndimage as ndi\n",
    "from scipy import stats\n",
    "import imageio\n",
    "import nd2\n",
    "from processingFunctions import *\n",
    "import warnings\n",
    "warnings.filterwarnings('ignore')"
   ]
  },
  {
   "cell_type": "code",
   "execution_count": null,
   "metadata": {},
   "outputs": [],
   "source": [
    "#path to folder with the images\n",
    "path=\"/Users/romina/Downloads/trial_images_PV_mcherry_CellCounter\"\n",
    "#retrieve all files from dataset folder\n",
    "all_files=[]\n",
    "for filename in os.listdir(path):\n",
    "    if filename.endswith(\".tif\"):\n",
    "        all_files.append(filename)\n",
    "    if filename.endswith(\".nd2\"):\n",
    "        all_files.append(filename)\n",
    "print(all_files)"
   ]
  },
  {
   "cell_type": "markdown",
   "metadata": {},
   "source": [
    "# Choose the parameters for the image\n",
    "We recommend keeping the general parameters as they are (in exception of the channel which will depend on your dataset)"
   ]
  },
  {
   "cell_type": "code",
   "execution_count": null,
   "metadata": {},
   "outputs": [],
   "source": [
    "# General parameters\n",
    "channelFos=1 #channel where Fos staining is\n",
    "axis_limit = 60\n",
    "dist_thresh=25\n",
    "axis_min=11\n",
    "circ=0.98\n",
    "axis_ratio= 0.48\n",
    "\n",
    "# Fos parameters \n",
    "fos_thresh={\n",
    "    \"is_intensity_low\":1, #use 0 if you have images with a high background, change to 1 if your images have low intensity and you wish to enhance contrast \n",
    "    \"top_thresh\":25, #this is gonna be the threshold for images with higher background, adjust it based on your settings\n",
    "    \"mid_thresh\":9,#this is gonna be the threshold for images with medium background, adjust it based on your settings\n",
    "    \"low_thresh\":30, #this is gonna be the threshold for images with lower background, adjust it based on your settings\n",
    "    \"high_int_thresh\":92,\n",
    "    \"low_int_thresh\":30\n",
    "}"
   ]
  },
  {
   "cell_type": "markdown",
   "metadata": {},
   "source": [
    "First run the intensitySaver function to obtain the classification parameters based on the intensity of the images to differentially apply the chose threshold values"
   ]
  },
  {
   "cell_type": "code",
   "execution_count": null,
   "metadata": {},
   "outputs": [],
   "source": [
    "fos_ints= intensitySaver(path, all_files, channelFos, fos_thresh.get(\"is_intensity_low\")).getIntensityValues()\n",
    "print (fos_ints)"
   ]
  },
  {
   "cell_type": "code",
   "execution_count": null,
   "metadata": {},
   "outputs": [],
   "source": [
    "#select one image to visualize if the thresholding is correct\n",
    "test_image= \"vTRAP_rem memory_4-5m_R006.tif\" #name of image file\n",
    "data= path + \"/\"+ test_image #open an image here to examinate (note that you're gonna have to open a few to see how your images vary from each other)\n",
    "fos_t, stacks=getImg(channelFos, data)\n",
    "print(stacks) #will print the number of planes of the z-stack"
   ]
  },
  {
   "cell_type": "markdown",
   "metadata": {},
   "source": [
    "## visualize how your images look after being thresholded with the previous parameters\n",
    "visually inspect the chosen image and how it is being thresholded, and then adjust your thresholding values accordingly "
   ]
  },
  {
   "cell_type": "code",
   "execution_count": null,
   "metadata": {},
   "outputs": [],
   "source": [
    "for i in range(stacks):\n",
    "    fos_cc=fos_t[i]\n",
    "    filt= getThresh(fos_cc).threshFos(fos_thresh, fos_ints)\n",
    "    show_labels(filt, fos_cc, circ, axis_min, axis_limit, axis_ratio)"
   ]
  },
  {
   "cell_type": "markdown",
   "metadata": {},
   "source": [
    "Print the counts of Fos+ cells"
   ]
  },
  {
   "cell_type": "code",
   "execution_count": null,
   "metadata": {},
   "outputs": [],
   "source": [
    "blobs_fos= getCoords(fos_t, stacks, circ, axis_ratio, axis_min, axis_limit).coordsFos(fos_thresh, fos_ints)\n",
    "overlap=getOverlap(stacks, dist_thresh).overlap_coords(blobs_fos)\n",
    "print(len(blobs_fos)-len(overlap))"
   ]
  },
  {
   "cell_type": "markdown",
   "metadata": {},
   "source": [
    "Run the following cell to get the values of each plane to assess where to adjust values, the cell returns a dataframe with the classification values and the thresholding value to be applied"
   ]
  },
  {
   "cell_type": "code",
   "execution_count": null,
   "metadata": {},
   "outputs": [],
   "source": [
    "intInfo= pd.DataFrame(columns=[\"stack\",\"classifier value\", \"25 p\", \"99 p\", \"threshold applied\"])\n",
    "for i in range(stacks):\n",
    "    denoise=sk.restoration.denoise_wavelet(fos_t[i])\n",
    "    blurred = sk.filters.gaussian(denoise, sigma=2.0)\n",
    "    if fos_thresh.get(\"is_intensity_low\") ==0:\n",
    "        prepro=blurred\n",
    "    else:\n",
    "        prepro= sk.exposure.equalize_adapthist(blurred, kernel_size=127,clip_limit=0.01,  nbins=256)\n",
    "    thresh=sk.filters.threshold_otsu(prepro)\n",
    "    if np.percentile(prepro, 25)<= fos_ints.get(\"low_int\"): \n",
    "        cat= \"high_int_thresh\"\n",
    "    elif np.percentile(prepro,99)>= fos_ints.get(\"high_int\"):\n",
    "        cat= \"low_int_thresh\"\n",
    "    else:\n",
    "        if thresh/np.median(prepro)>=fos_ints.get(\"int_cutoff_up\"):\n",
    "            cat= \"no thresh\"\n",
    "        else:\n",
    "            if thresh/np.median(prepro)<=fos_ints.get(\"int_cutoff\"): \n",
    "                if thresh/np.median(prepro)<=fos_ints.get(\"int_cutoff_down\"): \n",
    "                    cat= \"low_thresh\"\n",
    "                else:\n",
    "                    cat= \"top thresh\"\n",
    "            else:\n",
    "                cat= \"mid thresh\"\n",
    "    val_list= [i, thresh/np.median(prepro),np.percentile(prepro, 25), np.percentile(prepro, 99), cat]\n",
    "    c_series = pd.Series(val_list, index = intInfo.columns)\n",
    "    intInfo = intInfo.append(c_series, ignore_index=True)\n",
    "print(intInfo)\n"
   ]
  },
  {
   "cell_type": "markdown",
   "metadata": {},
   "source": [
    "### once you have repetead the previous steps for a few images and decided on the final thresholding values,  copy them on the main file and run the script to obtain the Fos+ counts for the entire dataset"
   ]
  }
 ],
 "metadata": {
  "kernelspec": {
   "display_name": "Python 3.8.13 ('base')",
   "language": "python",
   "name": "python3"
  },
  "language_info": {
   "codemirror_mode": {
    "name": "ipython",
    "version": 3
   },
   "file_extension": ".py",
   "mimetype": "text/x-python",
   "name": "python",
   "nbconvert_exporter": "python",
   "pygments_lexer": "ipython3",
   "version": "3.8.13"
  },
  "orig_nbformat": 4,
  "vscode": {
   "interpreter": {
    "hash": "3d597f4c481aa0f25dceb95d2a0067e73c0966dcbd003d741d821a7208527ecf"
   }
  }
 },
 "nbformat": 4,
 "nbformat_minor": 2
}
