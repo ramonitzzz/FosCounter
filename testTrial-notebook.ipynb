{
 "cells": [
  {
   "cell_type": "markdown",
   "metadata": {},
   "source": [
    "# FosCounter threshold adjusting trial"
   ]
  },
  {
   "cell_type": "markdown",
   "metadata": {},
   "source": [
    "We recommend opening a small subset of images from the dataset and running this notebook to adjust the thresholding values"
   ]
  },
  {
   "cell_type": "code",
   "execution_count": null,
   "metadata": {},
   "outputs": [],
   "source": [
    "# import modules\n",
    "import skimage as sk\n",
    "import numpy as np\n",
    "import matplotlib.pyplot as plt\n",
    "import matplotlib.patches as mpatches\n",
    "import os\n",
    "import pandas as pd\n",
    "import math\n",
    "from scipy import ndimage as ndi\n",
    "from scipy import stats\n",
    "import imageio\n",
    "import nd2\n",
    "from processingFunctions import *\n",
    "import warnings\n",
    "warnings.filterwarnings('ignore')"
   ]
  },
  {
   "cell_type": "markdown",
   "metadata": {},
   "source": [
    "Import the images "
   ]
  },
  {
   "cell_type": "code",
   "execution_count": null,
   "metadata": {},
   "outputs": [],
   "source": [
    "#path to folder with the images\n",
    "path=\"/Users/romina/Library/CloudStorage/OneDrive-VrijeUniversiteitAmsterdam/Y1/internship_1/remote_memory/NisslIR_mCherry_PVB_fosG\"\n",
    "#retrieve all files from dataset folder\n",
    "all_files=[]\n",
    "for filename in os.listdir(path):\n",
    "    if filename.endswith(\".tif\"):\n",
    "        all_files.append(filename)\n",
    "    if filename.endswith(\".nd2\"):\n",
    "        all_files.append(filename)\n",
    "print(all_files)"
   ]
  },
  {
   "cell_type": "markdown",
   "metadata": {},
   "source": [
    "# Choosing the parameters for the image\n",
    "We recommend keeping the general parameters as they are (in exception of the channel which will depend on your dataset)"
   ]
  },
  {
   "cell_type": "code",
   "execution_count": null,
   "metadata": {},
   "outputs": [],
   "source": [
    "# General parameters\n",
    "channelFos=1 #channel where Fos staining is\n",
    "channelMC=2 #channel where MC staining is\n",
    "channelPV=0 #channel where PV staining is\n",
    "axis_limit = 60\n",
    "dist_thresh=25\n",
    "circ=0.95\n",
    "\n",
    "axis_min=11 #for Fos\n",
    "axis_ratio= 0.48 #for Fos\n",
    "\n",
    "axis_ratio_mc=0.3 #for MC\n",
    "axis_min_mc=14 #for MC\n",
    "\n",
    "axis_ratio_pv=0.4 #for PV\n",
    "axis_min_pv=14 #for PV\n",
    "\n",
    "\n",
    "#Fos parameters, if you want to filter more per image, then \n",
    "fos_thresh={\n",
    "    \"is_intensity_low\":0, #use 0 if you have images with a high background, change to 1 if your images have low intensity and you wish to enhance contrast \n",
    "    \"top_thresh\": 98, #this is gonna be the percentile threshold for images with higher background, adjust it based on your settings\n",
    "    \"mid_thresh\": 98,#this is gonna be the percentile threshold for images with medium background, adjust it based on your settings\n",
    "    \"low_thresh\": 97, #this is gonna be the percentile threshold for images with lower background, adjust it based on your settings\n",
    "    \"extra_bright_thresh\": 98.5, #extra threshold, if you\n",
    "    \"high_int_thresh\": 90, #are your images super bright? Then increase this value\n",
    "    \"low_int_thresh\": 98.8 #are your images super holey? Then decrease this value\n",
    "}\n",
    "\n",
    "#MC parameters\n",
    "mc_thresh={\n",
    "    \"is_intensity_low\":0, # don't use for mcherry image analysis \n",
    "    \"extra_bright_thresh\": 99,\n",
    "    \"top_thresh\":55, #this is gonna be the threshold for images with higher background, adjust it based on your settings\n",
    "    \"mid_thresh\":50,#this is gonna be the threshold for images with medium background, adjust it based on your settings\n",
    "    \"low_thresh\":20, #this is gonna be the threshold for images with lower background, adjust it based on your settings\n",
    "    \"high_int_thresh\":80,\n",
    "    \"low_int_thresh\":30\n",
    "}\n",
    "\n",
    "#PV parameters\n",
    "pv_thresh={\n",
    "    \"is_intensity_low\":0, #leave at 0 for PV\n",
    "    \"extra_bright_thresh\": 50,\n",
    "    \"top_thresh\":55, #this is gonna be the threshold for images with higher background, adjust it based on your settings\n",
    "    \"mid_thresh\":50,#this is gonna be the threshold for images with medium background, adjust it based on your settings\n",
    "    \"low_thresh\":20, #this is gonna be the threshold for images with lower background, adjust it based on your settings\n",
    "    \"high_int_thresh\":80,\n",
    "    \"low_int_thresh\":30\n",
    "}"
   ]
  },
  {
   "cell_type": "markdown",
   "metadata": {},
   "source": [
    "First run the intensitySaver function to obtain the classification parameters based on the intensity of the images to differentially apply the chose threshold values"
   ]
  },
  {
   "cell_type": "code",
   "execution_count": null,
   "metadata": {},
   "outputs": [],
   "source": [
    "# get intensity cut off values for filtering function, for Fos\n",
    "fos_ints= intensitySaver(path, all_files, channelFos, fos_thresh.get(\"is_intensity_low\")).getIntensityValues()\n",
    "print (\"Fos intensity cutoffs: \",  fos_ints)\n",
    "\n",
    "# get intensity cut off value for filtering function, for mc\n",
    "mc_ints= intensitySaver(path, all_files, channelMC, 0).getIntensityValues()\n",
    "print(\"MCherry intensity cutoffs: \", mc_ints)\n",
    "\n",
    "# get intensity cut off value for filtering function, for pv\n",
    "pv_ints=intensitySaver(path, all_files, channelMC, 0).getIntensityValues()\n",
    "print (\"PV intensity cutoffs: \",pv_ints)\n",
    "os.system('say \"your code has finished\"');"
   ]
  },
  {
   "cell_type": "markdown",
   "metadata": {},
   "source": [
    "#### First select one image to visualize if the thresholding is correct\n",
    "#### We recommend doing this process for a set of images before running the main script"
   ]
  },
  {
   "cell_type": "code",
   "execution_count": null,
   "metadata": {},
   "outputs": [],
   "source": [
    "#select one image from the dataset\n",
    "test_image= \"vtrap_remote memory 3-5m_B.tif\" #name of image file (incl tif/nd2 or extension) \n",
    "data= path + \"/\"+ test_image #open an image here to examinate (note that you're gonna have to open a few to see how your images vary from each other)\n",
    "fos_t, stacks=getImg(channelFos, data) #if you want to analyse the mcherry channel, put channelMC\n",
    "mc_t, stacks=getImg(channelMC, data)\n",
    "pv_t, stacks=getImg(channelPV, data)\n",
    "print(stacks) #will print the number of planes of the z-stack"
   ]
  },
  {
   "cell_type": "markdown",
   "metadata": {},
   "source": [
    "## Visualize how your images look after being thresholded with the previous parameters\n",
    "Visually inspect the chosen image and how it is being thresholded, and then adjust your thresholding values accordingly "
   ]
  },
  {
   "cell_type": "markdown",
   "metadata": {},
   "source": [
    "## Fos"
   ]
  },
  {
   "cell_type": "code",
   "execution_count": null,
   "metadata": {},
   "outputs": [],
   "source": [
    "for i in range(stacks):\n",
    "    fos_cc=fos_t[i]\n",
    "    filt= getThresh(fos_cc).thresh(fos_thresh, fos_ints)\n",
    "    show_labels(filt, fos_cc, circ, axis_min, axis_limit, axis_ratio)"
   ]
  },
  {
   "cell_type": "markdown",
   "metadata": {},
   "source": [
    "Print the counts for Fos cells"
   ]
  },
  {
   "cell_type": "code",
   "execution_count": null,
   "metadata": {},
   "outputs": [],
   "source": [
    "blobs_fos= getCoords(fos_t, stacks, circ, axis_ratio, axis_min, axis_limit).coordsCells(fos_thresh, fos_ints)\n",
    "overlap=getOverlap(stacks, dist_thresh).overlap_coords(blobs_fos)\n",
    "print(len(blobs_fos)-len(overlap))"
   ]
  },
  {
   "cell_type": "markdown",
   "metadata": {},
   "source": [
    "Get values of each plane to assess where to adjust values "
   ]
  },
  {
   "cell_type": "code",
   "execution_count": null,
   "metadata": {},
   "outputs": [],
   "source": [
    "intInfoFos= getThresh(fos_t).intInfo(stacks, fos_ints)\n",
    "print(intInfoFos) #for Fos"
   ]
  },
  {
   "cell_type": "markdown",
   "metadata": {},
   "source": [
    "## MCherry"
   ]
  },
  {
   "cell_type": "code",
   "execution_count": null,
   "metadata": {},
   "outputs": [],
   "source": [
    "for i in range(stacks):\n",
    "    mc_cc=mc_t[i]\n",
    "    filt= getThresh(mc_cc).thresh(mc_thresh, mc_ints)\n",
    "    show_labels(filt, mc_cc, circ, axis_min_mc, axis_limit, axis_ratio_mc, \"remove axons\") #delete \"remove axons\" argument if you have circular cells"
   ]
  },
  {
   "cell_type": "markdown",
   "metadata": {},
   "source": [
    "Print the counts of Mcherry cells"
   ]
  },
  {
   "cell_type": "code",
   "execution_count": null,
   "metadata": {},
   "outputs": [],
   "source": [
    "blobs_mc=getCoords(mc_t, stacks, circ, axis_ratio_mc, axis_min_mc, axis_limit, \"remove axons\").coordsCells(mc_thresh, mc_ints) #delete \"remove axons\" argument if you have circular cells\n",
    "overlap=getOverlap(stacks, dist_thresh).overlap_coords(blobs_mc)\n",
    "print(len(blobs_mc)-len(overlap))"
   ]
  },
  {
   "cell_type": "markdown",
   "metadata": {},
   "source": [
    "Get values of each plane to assess where to adjust values"
   ]
  },
  {
   "cell_type": "code",
   "execution_count": null,
   "metadata": {},
   "outputs": [],
   "source": [
    "intInfoMC= getThresh(mc_t).intInfo(stacks, mc_ints)\n",
    "print(intInfoMC)"
   ]
  },
  {
   "cell_type": "markdown",
   "metadata": {},
   "source": [
    "## PV"
   ]
  },
  {
   "cell_type": "code",
   "execution_count": null,
   "metadata": {},
   "outputs": [],
   "source": [
    "for i in range(stacks):\n",
    "    pv_cc=pv_t[i]\n",
    "    filt= getThresh(pv_cc).thresh(pv_thresh, pv_ints)\n",
    "    show_labels(filt, pv_cc, circ, axis_min_mc, axis_limit, axis_ratio_mc)\n"
   ]
  },
  {
   "cell_type": "markdown",
   "metadata": {},
   "source": [
    "Print the counts for PV cells "
   ]
  },
  {
   "cell_type": "code",
   "execution_count": null,
   "metadata": {},
   "outputs": [],
   "source": [
    "blobs_pv=getCoords(pv_t, stacks, circ, axis_ratio_mc, axis_min_mc, axis_limit).coordsCells(pv_thresh, pv_ints)\n",
    "overlap=getOverlap(stacks, dist_thresh).overlap_coords(blobs_pv)\n",
    "print(len(blobs_pv)-len(overlap))"
   ]
  },
  {
   "cell_type": "markdown",
   "metadata": {},
   "source": [
    "Get values of each plane to assess where to adjust values"
   ]
  },
  {
   "cell_type": "code",
   "execution_count": null,
   "metadata": {},
   "outputs": [],
   "source": [
    "intInfoPV= getThresh(pv_t).intInfo(stacks, pv_ints)\n",
    "print(intInfoPV)"
   ]
  },
  {
   "cell_type": "markdown",
   "metadata": {},
   "source": [
    "## Once you have repetead the previous steps for a few images and decided on the final thresholding values,  copy them on the main file and run the script to obtain the Fos+ counts for the entire dataset"
   ]
  }
 ],
 "metadata": {
  "kernelspec": {
   "display_name": "Python 3.8.13 ('base')",
   "language": "python",
   "name": "python3"
  },
  "language_info": {
   "codemirror_mode": {
    "name": "ipython",
    "version": 3
   },
   "file_extension": ".py",
   "mimetype": "text/x-python",
   "name": "python",
   "nbconvert_exporter": "python",
   "pygments_lexer": "ipython3",
   "version": "3.8.13"
  },
  "orig_nbformat": 4,
  "vscode": {
   "interpreter": {
    "hash": "3d597f4c481aa0f25dceb95d2a0067e73c0966dcbd003d741d821a7208527ecf"
   }
  }
 },
 "nbformat": 4,
 "nbformat_minor": 2
}
